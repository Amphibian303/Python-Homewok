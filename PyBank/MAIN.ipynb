{
 "cells": [
  {
   "cell_type": "markdown",
   "metadata": {},
   "source": [
    "PyBank HW#2"
   ]
  },
  {
   "cell_type": "code",
   "execution_count": 36,
   "metadata": {},
   "outputs": [
    {
     "name": "stdout",
     "output_type": "stream",
     "text": [
      "<_csv.reader object at 0x0000029955688520>\n",
      "Financial Analysis\n",
      "--------------------\n",
      "['Date', 'Profit/Losses']\n",
      "38382578\n",
      "Total Months: 0\n",
      "Total: 0\n",
      "Average Change: 0\n"
     ]
    }
   ],
   "source": [
    "# Read in budget data CSV into a list:\n",
    "# 1.) the total number of months included in the dataset.\n",
    "\n",
    "\n",
    "from pathlib import Path\n",
    "import csv\n",
    "\n",
    "csvpath = Path('../PyBank/budget_data.csv')\n",
    "\n",
    "records = []\n",
    "\n",
    "with open (csvpath, 'r') as csvfile:\n",
    "    \n",
    "    csvreader = csv.reader(csvfile, delimiter =',')\n",
    "    print(csvreader)\n",
    "    \n",
    "    print(\"Financial Analysis\")\n",
    "    print(\"--------------------\") \n",
    "    \n",
    "        \n",
    "    total_pnl = 0\n",
    "    \n",
    "    total_months = 0\n",
    "    \n",
    "    total = 0\n",
    "    \n",
    "    average_change = 0\n",
    "    \n",
    "    csv_header = next(csvreader)\n",
    "    \n",
    "    print(csv_header)\n",
    "    \n",
    "    for row in csvreader:\n",
    "    \n",
    "        \n",
    "        name = row[0] \n",
    "        revenue = int(row[1])\n",
    "        total_pnl += revenue\n",
    "        \n",
    "\n",
    "        #print(name, revenue)\n",
    "        \n",
    "print(total_pnl)\n",
    "\n",
    "\n",
    "\n",
    "print(f\"Total Months: {total_months}\")\n",
    "\n",
    "print(f\"Total: {total}\")\n",
    "\n",
    "print(f\"Average Change: {average_change}\")\n",
    "\n",
    "\n",
    "# 2.) The net total amount of Profit/Losses over the entire period.\n",
    "\n",
    "# for record in budget data CSV list (for loop)\n",
    "    \n",
    "    #The total number of months included in the dataset\n",
    "    \n",
    "    #The net total amount of Profit/Losses over the entire period\n",
    "    \n",
    "    #The average of the changes in Profit/Losses over the entire period.\n",
    "    \n",
    "    #The greatest increase in profits (date and amount) over the entire period.\n",
    "    \n",
    "    #The greatest decrease in losses (date and amount) over the entire period.\n",
    "    \n",
    "\n",
    "# 3.) The average of the changes in Profit/Losses over the entire period.\n",
    "\n",
    "# set total months variable equal to lengh of budget data CSV list\n",
    "\n",
    "\n",
    "# 4.) The greatest increase in profits (date and amount) over the entire period.\n",
    "\n",
    "# initialize variable, total profit\n",
    "\n",
    "\n",
    "# The greatest decrease in losses (date and amount) over the entire period.\n",
    "\n",
    "# initialize variable, adverage changes\n",
    "\n",
    "\n",
    "# initialize variable, greatest increase and decrease\n",
    "\n",
    "\n",
    "# Financial Analysis\n",
    "# ----------------------------\n",
    "# Total Months: 86\n",
    "# Total: $38382578\n",
    "# Average  Change: $-2315.12\n",
    "# Greatest Increase in Profits: Feb-2012 ($1926159)\n",
    "# Greatest Decrease in Profits: Sep-2013 ($-2196167)"
   ]
  },
  {
   "cell_type": "code",
   "execution_count": null,
   "metadata": {},
   "outputs": [],
   "source": [
    "\n"
   ]
  }
 ],
 "metadata": {
  "kernelspec": {
   "display_name": "Python 3",
   "language": "python",
   "name": "python3"
  },
  "language_info": {
   "codemirror_mode": {
    "name": "ipython",
    "version": 3
   },
   "file_extension": ".py",
   "mimetype": "text/x-python",
   "name": "python",
   "nbconvert_exporter": "python",
   "pygments_lexer": "ipython3",
   "version": "3.8.5"
  }
 },
 "nbformat": 4,
 "nbformat_minor": 4
}
